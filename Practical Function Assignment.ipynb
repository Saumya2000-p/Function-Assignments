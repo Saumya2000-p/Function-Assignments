{
  "metadata": {
    "kernelspec": {
      "name": "python",
      "display_name": "Python (Pyodide)",
      "language": "python"
    },
    "language_info": {
      "codemirror_mode": {
        "name": "python",
        "version": 3
      },
      "file_extension": ".py",
      "mimetype": "text/x-python",
      "name": "python",
      "nbconvert_exporter": "python",
      "pygments_lexer": "ipython3",
      "version": "3.8"
    }
  },
  "nbformat_minor": 4,
  "nbformat": 4,
  "cells": [
    {
      "cell_type": "code",
      "source": "1. Write a Python function that takes a list of numbers as input and returns the sum of all even numbers in the list.\n2. Create a Python function that accepts a string and returns the reverse of that string.\n3. Implement a Python function that takes a list of integers and returns a new list containing the squares of each number.\n4. Write a Python function that checks if a given number is prime or not from 1 to 200.\n5. Create an iterator class in Python that generates the Fibonacci sequence up to a specified number of terms.\n6. Write a generator function in Python that yields the powers of 2 up to a given exponent.\n7. Implement a generator function that reads a file line by line and yields each line as a string.\n8. Use a lambda function in Python to sort a list of tuples based on the second element of each tuple.\n9. Write a Python program that uses `map()` to convert a list of temperatures from Celsius to Fahrenheit.\n10. Create a Python program that uses `filter()` to remove all the vowels from a given string.\n11) Imagine an accounting routine used in a book shop. It works on a list with sublists, which look like this:\n\n \nWrite a Python program, which returns a list with 2-tuples. Each tuple consists of the order number and the product of the price per item and the quantity. The product should be increased by 10,- € if the value of the order is smaller than 100,00 €.\nWrite a Python program using lambda and map.",
      "metadata": {
        "trusted": true,
        "tags": [],
        "editable": true,
        "slideshow": {
          "slide_type": ""
        }
      },
      "outputs": [],
      "execution_count": null
    },
    {
      "cell_type": "raw",
      "source": "Answer1. Write a Python function that takes a list of numbers as input and returns the sum of all even numbers in the list.",
      "metadata": {}
    },
    {
      "cell_type": "code",
      "source": "def sum_of_evens(numbers):\n    return sum(num for num in numbers if num % 2 == 0)\n\n# Example usage:\nnumbers = [1, 2, 3, 4, 5, 6]\nresult = sum_of_evens(numbers)\nprint(result)  ",
      "metadata": {
        "trusted": true
      },
      "outputs": [
        {
          "name": "stdout",
          "text": "12\n",
          "output_type": "stream"
        }
      ],
      "execution_count": 1
    },
    {
      "cell_type": "code",
      "source": "Explanation:\nThe function sum_of_evens uses a generator expression to iterate through the list.\nIt checks if each number is even (num % 2 == 0).\nThe sum function then adds up all the even numbers and returns the result.",
      "metadata": {
        "trusted": true
      },
      "outputs": [],
      "execution_count": null
    },
    {
      "cell_type": "raw",
      "source": "Answer2. Create a Python function that accepts a string and returns the reverse of that string.",
      "metadata": {}
    },
    {
      "cell_type": "code",
      "source": "def reverse_string(s):\n    return s[::-1]\n\n# Example usage:\ninput_string = \"Hello, World!\"\nresult = reverse_string(input_string)\nprint(result)  ",
      "metadata": {
        "trusted": true
      },
      "outputs": [
        {
          "name": "stdout",
          "text": "!dlroW ,olleH\n",
          "output_type": "stream"
        }
      ],
      "execution_count": 2
    },
    {
      "cell_type": "code",
      "source": "Explanation:\nThe function reverse_string uses slicing (s[::-1]) to reverse the string.\nThe slice notation [::-1] means \"start at the end of the string and end at position 0, moving with the step -1,\" effectively reversing the string.",
      "metadata": {
        "trusted": true
      },
      "outputs": [],
      "execution_count": null
    },
    {
      "cell_type": "raw",
      "source": "Answer3. Implement a Python function that takes a list of integers and returns a new list containing the squares of each number.",
      "metadata": {}
    },
    {
      "cell_type": "code",
      "source": "def square_numbers(numbers):\n    return [num ** 2 for num in numbers]\n\n# Example usage:\ninput_numbers = [1, 2, 3, 4, 5]\nresult = square_numbers(input_numbers)\nprint(result) ",
      "metadata": {
        "trusted": true
      },
      "outputs": [
        {
          "name": "stdout",
          "text": "[1, 4, 9, 16, 25]\n",
          "output_type": "stream"
        }
      ],
      "execution_count": 3
    },
    {
      "cell_type": "code",
      "source": "Explanation:\nThe function square_numbers uses a list comprehension to iterate over each number in the input list.\nFor each number, it calculates the square (num ** 2) and collects the results in a new list.\nThe new list of squared numbers is then returned.",
      "metadata": {
        "trusted": true
      },
      "outputs": [],
      "execution_count": null
    },
    {
      "cell_type": "raw",
      "source": "Answer4. Write a Python function that checks if a given number is prime or not from 1 to 200.",
      "metadata": {}
    },
    {
      "cell_type": "code",
      "source": "def is_prime(n):\n    if n < 2:\n        return False\n    for i in range(2, int(n**0.5) + 1):\n        if n % i == 0:\n            return False\n    return True\n\n# Example usage:\nnumber = 29\nresult = is_prime(number)\nprint(f\"{number} is prime: {result}\") \n\n# Check for all numbers from 1 to 200\nfor num in range(1, 201):\n    if is_prime(num):\n        print(num, end=' ')",
      "metadata": {
        "trusted": true
      },
      "outputs": [
        {
          "name": "stdout",
          "text": "29 is prime: True\n2 3 5 7 11 13 17 19 23 29 31 37 41 43 47 53 59 61 67 71 73 79 83 89 97 101 103 107 109 113 127 131 137 139 149 151 157 163 167 173 179 181 191 193 197 199 ",
          "output_type": "stream"
        }
      ],
      "execution_count": 4
    },
    {
      "cell_type": "code",
      "source": "Explanation:\nThe function is_prime takes an integer n as input.\nIt first checks if n is less than 2, in which case it returns False (since primes are greater than 1).\nIt then iterates from 2 up to the square root of n (inclusive). If n is divisible by any of these numbers, it returns False.\nIf no divisors are found, it returns True, indicating that n is prime.\nThe example usage shows how to check if a specific number is prime and also demonstrates checking all numbers from 1 to 200.",
      "metadata": {
        "trusted": true
      },
      "outputs": [],
      "execution_count": null
    },
    {
      "cell_type": "raw",
      "source": "Answer5. Create an iterator class in Python that generates the Fibonacci sequence up to a specified number of terms.",
      "metadata": {}
    },
    {
      "cell_type": "code",
      "source": "class FibonacciIterator:\n    def __init__(self, terms):\n        self.terms = terms\n        self.current = 0\n        self.next = 1\n        self.count = 0\n\n    def __iter__(self):\n        return self\n\n    def __next__(self):\n        if self.count < self.terms:\n            fibonacci_number = self.current\n            self.current, self.next = self.next, self.current + self.next\n            self.count += 1\n            return fibonacci_number\n        else:\n            raise StopIteration\n\n# Example usage:\nfibonacci_terms = 10\nfibonacci_sequence = FibonacciIterator(fibonacci_terms)\n\nfor number in fibonacci_sequence:\n    print(number, end=' ')",
      "metadata": {
        "trusted": true
      },
      "outputs": [
        {
          "name": "stdout",
          "text": "0 1 1 2 3 5 8 13 21 34 ",
          "output_type": "stream"
        }
      ],
      "execution_count": 5
    },
    {
      "cell_type": "code",
      "source": "Explanation:\nFibonacciIterator Class:\nThe __init__ method initializes the number of terms, sets the first two Fibonacci numbers (current and next), and a counter (count).\nThe __iter__ method returns the iterator object itself.\nThe __next__ method generates the next Fibonacci number:\nIf the count of generated terms is less than the specified number, it returns the current Fibonacci number, updates the values for the next call, and increments the count.\nIf the count has reached the specified terms, it raises a StopIteration exception to signal that the iteration is complete.",
      "metadata": {
        "trusted": true
      },
      "outputs": [],
      "execution_count": null
    },
    {
      "cell_type": "raw",
      "source": "Answer6. Write a generator function in Python that yields the powers of 2 up to a given exponent.",
      "metadata": {}
    },
    {
      "cell_type": "code",
      "source": "def powers_of_two(exponent):\n    for i in range(exponent + 1):\n        yield 2 ** i\n\n# Example usage:\nexponent = 5\nfor power in powers_of_two(exponent):\n    print(power, end=' ')",
      "metadata": {
        "trusted": true
      },
      "outputs": [
        {
          "name": "stdout",
          "text": "1 2 4 8 16 32 ",
          "output_type": "stream"
        }
      ],
      "execution_count": 6
    },
    {
      "cell_type": "code",
      "source": "### Explanation:\npowers_of_two Function:\nThe function takes an `exponent` as input.\nIt uses a `for` loop to iterate from 0 to the specified exponent (inclusive).\nIn each iteration, it yields the value of \\(2^i\\).\n\nWhen you run the provided example with `exponent = 5`,\nhis shows the powers of 2 from \\(2^0\\) to \\(2^5\\).",
      "metadata": {
        "trusted": true
      },
      "outputs": [],
      "execution_count": null
    },
    {
      "cell_type": "raw",
      "source": "Answer7. Implement a generator function that reads a file line by line and yields each line as a string.",
      "metadata": {}
    },
    {
      "cell_type": "code",
      "source": "def read_file_lines(file_path):\n    with open(file_path, 'r') as file:\n        for line in file:\n            yield line.strip()  # Strip whitespace including newlines\n\n# Example usage:\nfile_path = 'example.txt'  # Replace with your file path\nfor line in read_file_lines(file_path):\n    print(line)",
      "metadata": {
        "trusted": true
      },
      "outputs": [],
      "execution_count": null
    },
    {
      "cell_type": "code",
      "source": "Explanation:\nread_file_lines Function:\nIt takes file_path as an argument.\nIt opens the file in read mode ('r') using a with statement, which ensures the file is properly closed after reading.\nThe for line in file loop iterates over each line in the file.\nThe yield statement returns each line after stripping any leading or trailing whitespace, including newlines.\nExample Usage:\nYou can replace 'example.txt' with the path to your actual file. The function will read the file line by line, yielding each line for processing.",
      "metadata": {
        "trusted": true
      },
      "outputs": [],
      "execution_count": null
    },
    {
      "cell_type": "raw",
      "source": "Answer8. Use a lambda function in Python to sort a list of tuples based on the second element of each tuple.",
      "metadata": {}
    },
    {
      "cell_type": "code",
      "source": "# Sample list of tuples\ndata = [(1, 'banana'), (3, 'apple'), (2, 'cherry'), (4, 'date')]\n\n# Sort the list of tuples based on the second element\nsorted_data = sorted(data, key=lambda x: x[1])\n\n# Example usage\nprint(sorted_data)",
      "metadata": {
        "trusted": true
      },
      "outputs": [],
      "execution_count": null
    },
    {
      "cell_type": "code",
      "source": "Explanation:\nThe sorted function is used to sort the list.\nThe key parameter specifies a function to be called on each list element before making comparisons.\nThe lambda function lambda x: x[1] extracts the second element of each tuple (x[1]), which is used as the sorting key.",
      "metadata": {
        "trusted": true
      },
      "outputs": [],
      "execution_count": null
    },
    {
      "cell_type": "code",
      "source": "Example Output:\n[(3, 'apple'), (1, 'banana'), (4, 'date'), (2, 'cherry')]\nThis shows the list sorted based on the second element of each tuple.",
      "metadata": {
        "trusted": true
      },
      "outputs": [],
      "execution_count": null
    },
    {
      "cell_type": "code",
      "source": "Answer9. Write a Python program that uses `map()` to convert a list of temperatures from Celsius to Fahrenheit.",
      "metadata": {
        "trusted": true
      },
      "outputs": [],
      "execution_count": null
    },
    {
      "cell_type": "code",
      "source": "def celsius_to_fahrenheit(celsius):\n    return (celsius * 9/5) + 32\n\n# List of temperatures in Celsius\ncelsius_temps = [0, 20, 37, 100]\n\n# Use map to convert Celsius to Fahrenheit\nfahrenheit_temps = list(map(celsius_to_fahrenheit, celsius_temps))\n\n# Example usage\nprint(fahrenheit_temps)",
      "metadata": {
        "trusted": true
      },
      "outputs": [],
      "execution_count": null
    },
    {
      "cell_type": "code",
      "source": "Explanation:\ncelsius_to_fahrenheit Function:\nThis function takes a temperature in Celsius and converts it to Fahrenheit using the formula \n(𝐶×9/5)+32.\ncelsius_temps List:\nThis is a list of temperatures in Celsius that you want to convert.\nmap Function:\nThe map() function applies the celsius_to_fahrenheit function to each element in celsius_temps.\nThe result is converted to a list to get the final list of temperatures in Fahrenheit.",
      "metadata": {
        "trusted": true
      },
      "outputs": [],
      "execution_count": null
    },
    {
      "cell_type": "code",
      "source": "Example Output:\n[32.0, 68.0, 98.6, 212.0]\nThis shows the temperatures converted from Celsius to Fahrenheit.",
      "metadata": {
        "trusted": true
      },
      "outputs": [],
      "execution_count": null
    },
    {
      "cell_type": "raw",
      "source": "Answer10. Create a Python program that uses `filter()` to remove all the vowels from a given string.",
      "metadata": {}
    },
    {
      "cell_type": "code",
      "source": "def remove_vowels(input_string):\n    vowels = 'aeiouAEIOU'\n    # Use filter to remove vowels\n    filtered_string = ''.join(filter(lambda char: char not in vowels, input_string))\n    return filtered_string\n\n# Example usage:\ninput_string = \"Hello, World!\"\nresult = remove_vowels(input_string)\nprint(result)",
      "metadata": {
        "trusted": true
      },
      "outputs": [],
      "execution_count": null
    },
    {
      "cell_type": "code",
      "source": "Explanation:\nremove_vowels Function:\nThe function takes input_string as an argument.\nIt defines a string vowels containing both uppercase and lowercase vowels.\nThe filter() function is used with a lambda function that checks if each character in input_string is not a vowel.\nThe join() method is then used to combine the filtered characters back into a single string.",
      "metadata": {
        "trusted": true
      },
      "outputs": [],
      "execution_count": null
    },
    {
      "cell_type": "code",
      "source": "Example Output:\nWhen you run the provided example with input_string = \"Hello, World!\", the output will be:\nHll, Wrld!\nThis effectively removes all vowels from the input string.",
      "metadata": {
        "trusted": true
      },
      "outputs": [],
      "execution_count": null
    },
    {
      "cell_type": "raw",
      "source": "Answer11.",
      "metadata": {}
    },
    {
      "cell_type": "code",
      "source": "# List of order in the format:(Order Number,(Book Title , Author ),Quantity, Price per item)\nOrder=[(34587,(\"Learning Pthon\", \"Mark Lutz\"),4,40.95),\n        (98762,(\"Programing Python\", \"Mark Lutz\"),5,56.80),\n        (77226,(\"Head First Python\", \"Paul Barry\"),3,32.95),\n        (88112,(\"Einfuhrung in Python3\", \"Bernd Klein\"),3,24.99)]\n\n# Function to calculate total price\ndef calculate_total(order):\n    order_number,title_author, quantity, price_per_item=order\n    total=quantity*price_per_item\n    if total<100.00:\n        total+= 10.00 # Add 10 euros if total is less than 10\n        return(order_number,total)\n\n#Using map to apply the function to each order and converting the result to a list\nresult= list(map(calculate_total,Order))\n\n#Print the result\nprint(result)\n",
      "metadata": {
        "trusted": true
      },
      "outputs": [
        {
          "name": "stdout",
          "text": "[None, None, (77226, 108.85000000000001), (88112, 84.97)]\n",
          "output_type": "stream"
        }
      ],
      "execution_count": 1
    }
  ]
}