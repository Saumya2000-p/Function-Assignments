{
  "metadata": {
    "kernelspec": {
      "name": "python",
      "display_name": "Python (Pyodide)",
      "language": "python"
    },
    "language_info": {
      "codemirror_mode": {
        "name": "python",
        "version": 3
      },
      "file_extension": ".py",
      "mimetype": "text/x-python",
      "name": "python",
      "nbconvert_exporter": "python",
      "pygments_lexer": "ipython3",
      "version": "3.8"
    }
  },
  "nbformat_minor": 4,
  "nbformat": 4,
  "cells": [
    {
      "cell_type": "raw",
      "source": "   ## Functions Assignment ##",
      "metadata": {
        "tags": [],
        "editable": true,
        "slideshow": {
          "slide_type": ""
        }
      }
    },
    {
      "cell_type": "code",
      "source": "Theory Questions:\n1. What is the difference between a function and a method in Python?\n2. Explain the concept of function arguments and parameters in Python.\n3. What are the different ways to define and call a function in Python?\n4. What is the purpose of the `return` statement in a Python function?\n5. What are iterators in Python and how do they differ from iterables?\n6. Explain the concept of generators in Python and how they are defined.\n7. What are the advantages of using generators over regular functions?\n8. What is a lambda function in Python and when is it typically used?\n9. Explain the purpose and usage of the `map()` function in Python.\n10. What is the difference between `map()`, `reduce()`, and `filter()` functions in Python?\n11. Using pen & Paper write the internal mechanism for sum operation using reduce function on this given list:[47,11,42,13];",
      "metadata": {
        "trusted": true
      },
      "outputs": [],
      "execution_count": null
    },
    {
      "cell_type": "code",
      "source": "Answer1. What is the difference between a function and a method in Python?\nPython Method:-\n1.\tMethod is called by its name, but it is associated to an object (dependent).\n2.\tA method definition always includes ‘self’ as its first parameter.\n3.\tA method is implicitly passed to the object on which it is invoked.\n4.\tIt may or may not return any data.\n5.\tA method can operate on the data (instance variables) that is contained by the corresponding class\nBasic Method Structure in Python :",
      "metadata": {
        "trusted": true
      },
      "outputs": [],
      "execution_count": null
    },
    {
      "cell_type": "code",
      "source": "Python 3 User-Defined Method :",
      "metadata": {
        "trusted": true
      },
      "outputs": [],
      "execution_count": null
    },
    {
      "cell_type": "code",
      "source": "# Basic Python method \nclass class_name\n\tdef method_name () :\n\t\t......\n\t\t# method body\n\t\t......",
      "metadata": {
        "trusted": true
      },
      "outputs": [],
      "execution_count": null
    },
    {
      "cell_type": "code",
      "source": "# Python 3 User-Defined Method\nclass ABC :\n\tdef method_abc (self):\n\t\tprint(\"I am in method_abc of ABC class. \")\nclass_ref = ABC() # object of ABC class\nclass_ref.method_abc()",
      "metadata": {
        "trusted": true
      },
      "outputs": [
        {
          "name": "stdout",
          "text": "I am in method_abc of ABC class. \n",
          "output_type": "stream"
        }
      ],
      "execution_count": 5
    },
    {
      "cell_type": "code",
      "source": "Python 3 Inbuilt method :",
      "metadata": {
        "trusted": true
      },
      "outputs": [],
      "execution_count": null
    },
    {
      "cell_type": "code",
      "source": "import math\nceil_val = math.ceil(15.25)\nprint( \"Ceiling value of 15.25 is : \", ceil_val)",
      "metadata": {
        "trusted": true
      },
      "outputs": [
        {
          "name": "stdout",
          "text": "Ceiling value of 15.25 is :  16\n",
          "output_type": "stream"
        }
      ],
      "execution_count": 7
    },
    {
      "cell_type": "code",
      "source": "Functions:-\n1.\tFunction is block of code that is also called by its name. (independent)\n2.\tThe function can have different parameters or may not have any at all. If any data (parameters) are passed, they are passed explicitly.\n3.\tIt may or may not return any data.\n4.\tFunction does not deal with Class and its instance concept.\nBasic Function Structure in Python :",
      "metadata": {
        "trusted": true
      },
      "outputs": [],
      "execution_count": null
    },
    {
      "cell_type": "code",
      "source": "def function_name ( arg1, arg2, ...) :\n\t......\n\t# function body\n\t......",
      "metadata": {
        "trusted": true
      },
      "outputs": [],
      "execution_count": null
    },
    {
      "cell_type": "code",
      "source": "Python 3 User-Defined Function :",
      "metadata": {
        "trusted": true
      },
      "outputs": [],
      "execution_count": null
    },
    {
      "cell_type": "code",
      "source": "def Subtract (a, b):\n\treturn (a-b)\nprint( Subtract(10, 12) ) # prints -2\nprint( Subtract(15, 6) ) # prints 9",
      "metadata": {
        "trusted": true
      },
      "outputs": [
        {
          "name": "stdout",
          "text": "-2\n9\n",
          "output_type": "stream"
        }
      ],
      "execution_count": 9
    },
    {
      "cell_type": "code",
      "source": "Python 3 Inbuilt Function :",
      "metadata": {
        "trusted": true
      },
      "outputs": [],
      "execution_count": null
    },
    {
      "cell_type": "code",
      "source": "s = sum([5, 15, 2])\nprint( s ) # prints 22\nmx = max(15, 6)\nprint( mx ) # prints 15",
      "metadata": {
        "trusted": true
      },
      "outputs": [
        {
          "name": "stdout",
          "text": "22\n15\n",
          "output_type": "stream"
        }
      ],
      "execution_count": 10
    },
    {
      "cell_type": "code",
      "source": "Difference between method and function:-\n1.\tSimply, function and method both look similar as they perform in almost similar way, but the key difference is the concept of ‘Class and its Object‘.\n2.\tFunctions can be called only by its name, as it is defined independently. But methods can’t be called by its name only, we need to invoke the class by a reference of that class in which it is defined, i.e. method is defined within a class and hence they are dependent on that class.",
      "metadata": {
        "trusted": true
      },
      "outputs": [],
      "execution_count": null
    },
    {
      "cell_type": "code",
      "source": "Answer 2. Explain the concept of function arguments and parameters in python\nIn Python, function arguments and  parameters are key concepts that help define how functions receive and use data.\nParameters:-\nParameters are the variables that are listed inside the parentheses in a function definition. They act as placeholders for the values that will be passed to the function when it is called.\nExample:",
      "metadata": {
        "trusted": true
      },
      "outputs": [],
      "execution_count": null
    },
    {
      "cell_type": "code",
      "source": "def greet(name):  # 'name' is a parameter\n    print(f\"Hello, {name}!\")",
      "metadata": {
        "trusted": true
      },
      "outputs": [],
      "execution_count": 11
    },
    {
      "cell_type": "code",
      "source": "Arguments:-\nArguments are the actual values you pass to the function when you call it. They correspond to the parameters defined in the function.\nExample:",
      "metadata": {
        "trusted": true
      },
      "outputs": [],
      "execution_count": null
    },
    {
      "cell_type": "code",
      "source": "greet(\"Alice\")  # \"Alice\" is an argument",
      "metadata": {
        "trusted": true
      },
      "outputs": [],
      "execution_count": null
    },
    {
      "cell_type": "code",
      "source": "Key Points:\n1. Defining a Function: When you define a function, you specify parameters that will receive the values (arguments) later.\n2. Calling a Function: When you call a function, you provide arguments that are matched to the parameters.\n3. Positional Arguments: These are arguments that are assigned to parameters based on their position. In the example above, \"Alice\" is assigned to `name`.\n4. Keyword Arguments: You can specify arguments by name, which allows you to pass them in any order.\n   def introduce(name, age):\n       print(f\"My name is {name} and I am {age} years old.\")\n introduce(age=30, name=\"Bob\")  # Order does not matter\n5. Default Parameters: You can set default values for parameters. If an argument is not provided for that parameter, the default value is used.\n   def greet(name=\"Guest\"):\n       print(f\"Hello, {name}!\")\n   greet()        # Uses default value: \"Hello, Guest!\"\n   greet(\"Alice\")  # Outputs: \"Hello, Alice!\"\n6. Variable-Length Arguments: You can allow a function to accept a variable number of arguments using `*args` for non-keyword arguments and `**kwargs` for keyword arguments.\ndef add(*numbers):\n       return sum(numbers)\nprint(add(1, 2, 3))  # Outputs: 6\ndef print_info(**info):\n       for key, value in info.items():\n           print(f\"{key}: {value}\")\nprint_info(name=\"Alice\", age=30)  # Outputs: name: Alice, age: 30\n*Summary:*\n- Parameters are defined in function signatures, while arguments are the actual values passed to those parameters.\n- You can use positional, keyword, default, and variable-length arguments to create flexible and reusable functions.",
      "metadata": {
        "trusted": true
      },
      "outputs": [],
      "execution_count": null
    },
    {
      "cell_type": "code",
      "source": "Answer 3. What are the different ways to define and call a function in Python?\nIn Python, there are several ways to define and call functions. Here’s a breakdown of the most common methods:\n1. Basic Function Definition and Call\nYou can define a simple function using the `def` keyword and then call it by using its name followed by parentheses.\nDefinition:\ndef greet():\n    print(\"Hello!\")\nCall:\ngreet()  # Outputs: Hello!\n2. Function with Parameters\nYou can define a function that takes parameters, allowing it to accept input values.\nDefinition:\ndef greet(name):\n    print(f\"Hello, {name}!\")\nCall:\ngreet(\"Alice\")  # Outputs: Hello, Alice!\n3. Function with Default Parameters\nYou can set default values for parameters, which will be used if no argument is provided during the function call.\nDefinition:\ndef greet(name=\"Guest\"):\n    print(f\"Hello, {name}!\")\nCall:\ngreet()        # Outputs: Hello, Guest!\ngreet(\"Bob\")  # Outputs: Hello, Bob!\n4. Keyword Arguments\nYou can call functions using keyword arguments, allowing you to specify which parameters to assign values to by name.\nCall:\ngreet(name=\"Charlie\")  # Outputs: Hello, Charlie!\n5. Variable-Length Arguments\nYou can define functions that accept a variable number of arguments using `*args` for non-keyword arguments and `**kwargs` for keyword arguments.\nDefinition:\ndef add(*numbers):\n    return sum(numbers)\ndef print_info(**info):\n    for key, value in info.items():\n        print(f\"{key}: {value}\")\nCall:\nprint(add(1, 2, 3))  # Outputs: 6\nprint_info(name=\"Alice\", age=30)  # Outputs: name: Alice, age: 30\n6. Lambda Functions\nYou can define small, anonymous functions using the `lambda` keyword. These functions are typically used for short operations.\nDefinition:\nsquare = lambda x: x * x\nCall:\nprint(square(4))  # Outputs: 16\n7. Nested Functions\nFunctions can be defined inside other functions, which is useful for encapsulating functionality.\nDefinition:\ndef outer_function():\n    def inner_function():\n        print(\"Hello from inner function!\")\n    inner_function()\nCall:\nouter_function()  # Outputs: Hello from inner function!\n8. Returning Functions\nYou can return a function from another function.\nDefinition:\ndef create_multiplier(factor):\n    def multiplier(x):\n        return x * factor\n    return multiplier\nCall:\ndouble = create_multiplier(2)\nprint(double(5))  # Outputs: 10\n*Summary*\n     These different methods of defining and calling functions in Python allow for a great deal of flexibility, enabling you to create reusable, modular code tailored to specific needs.",
      "metadata": {
        "trusted": true
      },
      "outputs": [],
      "execution_count": null
    },
    {
      "cell_type": "code",
      "source": "Answer 4. What is the purpose of the 'return' statement in a python function?\nThe `return` statement in a Python function serves several important purposes:\n1. Output a Value: It allows a function to send back a value to the caller. This is useful when you want to perform some computation inside the function and then use the result elsewhere in your program.\n2. Exit the Function: When a `return` statement is executed, it terminates the function immediately. Any code following the `return` statement within that function will not be executed.\n3. Multiple Return Values: A function can return multiple values as a tuple. This allows you to return related pieces of data together.\n4. Indicate Completion: Using `return` can indicate that a function has completed its task, which can be useful in controlling the flow of a program.\nHere’s a simple example:\ndef add(a, b):\n    return a + b\nresult = add(3, 4)  # result will be 7\nIn this case, `return a + b` sends the sum of `a` and `b` back to the caller, allowing `result` to hold that value.",
      "metadata": {
        "trusted": true
      },
      "outputs": [],
      "execution_count": null
    },
    {
      "cell_type": "code",
      "source": "Answer 5. What are iterators in python and how do they differ from iterables?\nIn Python, iterators and iterables are closely related concepts, but they serve different purposes.\nIterables\n- An iterable is any Python object that can be looped over using a for loop. Common examples include lists, tuples, dictionaries, sets, and strings.\n- An iterable implements the __iter__() method, which returns an iterator.\nIterators\n- An iterator is an object that represents a stream of data; it returns one element at a time when you call `next()` on it.\n- An iterator implements two methods: \n  - __iter__(), which returns the iterator object itself.\n  - __next__(), which returns the next value from the stream. When there are no more items to return, __next__() raises the StopIteration exception.\nKey Differences\n1. Definition:\n   - An iterable is an object you can loop over.\n   - An iterator is the mechanism that does the actual looping.\n2. Methods:\n   - An iterable has the `__iter__()` method.\n   - An iterator has both `__iter__()` and `__next__()` methods.\n3. State:\n   - Iterables can be traversed multiple times. You can get a new iterator from an iterable each time.\n   - Iterators maintain state; once an iterator has been exhausted (all items have been retrieved), it cannot be reused.\n Example\nHere’s a quick example to illustrate:\n# Example of an iterable (a list)\nmy_list = [1, 2, 3]\n# Getting an iterator from the iterable\nmy_iterator = iter(my_list)\n# Using the iterator to retrieve elements\nprint(next(my_iterator))  # Output: 1\nprint(next(my_iterator))  # Output: 2\nprint(next(my_iterator))  # Output: 3\n# The next call will raise StopIteration\n# print(next(my_iterator))  # Uncommenting this will raise StopIteration\nIn this example, my_list is an iterable, while my_iterator is the iterator that retrieves each element one at a time.",
      "metadata": {
        "trusted": true
      },
      "outputs": [],
      "execution_count": null
    },
    {
      "cell_type": "code",
      "source": "Answer 6. Explain the concept of generators in python and how they are defined.\n   Generators in Python are a special type of iterator that allow you to create iterables in a more concise and memory-efficient way. They are defined using functions but instead of returning a single value, they yield multiple values over time. This makes generators particularly useful for working with large datasets or streams of data.\nKey Concepts of Generators\n1. Yield Statement: \n   - Generators use the yield keyword instead of return. When the generator function is called, it doesn’t execute the code immediately. Instead, it returns a generator object, which can be iterated over.\n - Each time next() is called on the generator, the function executes until it hits a yield statement, which sends a value back to the caller and pauses the function's state. When next() is called again, it resumes execution right after the last yield.\n2. State Preservation:\n   - Unlike regular functions, which lose their local state when they exit, a generator retains its state between calls. This means local variables in the generator function keep their values between iterations.\n3. Memory Efficiency:\n   - Generators are more memory-efficient than lists because they yield items one at a time and do not store the entire output in memory. This is especially beneficial when working with large datasets.\nDefining a Generator\nGenerators are defined like regular functions but include one or more yield statements. Here’s a simple example:\ndef count_up_to(n):\n    count = 1\n    while count <= n:\n        yield count  # Yield the current count and pause\n        count += 1  # Increment the count\nUsing the generator\ncounter = count_up_to(5)\nfor number in counter:\n    print(number)\nOutput:\n1\n2\n3\n4\n5\nExplanation:\n- The count_up_to function is a generator that counts from 1 to n.\n- Each time yield count is executed, it produces a value and pauses the function.\n- When the loop iterates, it calls next() on the generator, resuming where it left off.\n*Conclusion*\nGenerators are a powerful feature in Python that simplify the creation of iterators, enable lazy evaluation, and enhance performance with large data sets. They allow you to write cleaner and more efficient code for sequences of data.",
      "metadata": {
        "trusted": true
      },
      "outputs": [],
      "execution_count": null
    },
    {
      "cell_type": "code",
      "source": "Answer 7. What are the advantages of using generators over regular functions?\n     Generators offer several advantages over regular functions, especially when dealing with large datasets or implementing certain algorithms. Here are some key benefits:\n1. Memory Efficiency: Generators yield values one at a time and do not store the entire output in memory. This is particularly useful for large data sets, allowing you to work with data that might not fit into memory all at once.\n2. Lazy Evaluation: Generators produce values on-the-fly, meaning they only compute the next value when requested. This can lead to performance improvements, as you can start processing items immediately rather than waiting for all values to be generated.\n3. Simpler Code: Using `yield` can make your code cleaner and easier to read, especially when dealing with sequences or streams of data. It often replaces the need for managing state with complex loops.\n4. Stateful Iteration: Generators maintain their state between iterations, making it easier to manage complex sequences without needing external variables or class instances.\n5. Infinite Sequences: Generators can produce infinite sequences (like Fibonacci numbers) without running out of memory, as they generate values as needed.\n6. Improved Concurrency: In asynchronous programming, generators can help manage flows of control, allowing for more straightforward handling of tasks that involve waiting (like I/O operations).\n7. Pipeline Processing: You can easily chain generators together to create data processing pipelines, allowing for clean and efficient data transformation.\n   Overall, generators are a powerful tool in Python that can simplify code and improve performance, particularly in scenarios where you're dealing with potentially large or infinite data streams.",
      "metadata": {
        "trusted": true
      },
      "outputs": [],
      "execution_count": null
    },
    {
      "cell_type": "code",
      "source": "Answer 8. What is a lambda function in python and when is it typically used?\n   A lambda function in Python is a small, anonymous function defined using the lambda keyword. Unlike regular functions defined with def, lambda functions can have any number of arguments but only one expression. The syntax looks like this:\nlambda arguments: expression\nTypical Uses of Lambda Functions:\n1. Short-lived Functions: Lambda functions are often used for simple operations that are not reused elsewhere. They are particularly handy for short, throwaway functions.\n2. Higher-Order Functions: They are frequently used as arguments to higher-order functions like map(), filter(), and sorted(), where you need to pass a function without formally defining one.\nExample with map():\n     numbers = [1, 2, 3, 4]\n     squared = list(map(lambda x: x ** 2, numbers))  # [1, 4, 9, 16]\nExample with filter():\neven_numbers = list(filter(lambda x: x % 2 == 0, numbers))  # [2, 4]\n3. Sorting: Lambda functions can be used as the key for sorting functions to customize sorting behavior.\nExample:\npoints = [(1, 2), (3, 1), (5, 0)]\n     sorted_points = sorted(points, key=lambda p: p[1])  # Sort by y-coordinate\n4. Event Handling: In GUI applications, lambda functions can be used for short callbacks without creating a separate named function.\n5. Creating Simple Functions: They are useful for creating simple functions that you need just once, helping to keep your code concise.\nLimitations:\n- Readability: While lambda functions can make code more concise, they can also reduce readability, especially if the logic becomes complex.\n- Single Expression: Lambda functions can only contain a single expression, limiting their capability compared to regular functions.\n   In summary, lambda functions are a concise way to define simple functions on-the-fly, making them useful in functional programming contexts and scenarios where you need to pass a function as an argument.",
      "metadata": {
        "trusted": true
      },
      "outputs": [],
      "execution_count": null
    },
    {
      "cell_type": "code",
      "source": "Answer 9. Explain the purpose and usage of the map() function python.\n     The map() function in Python is a built-in function that allows you to apply a specified function to each item in an iterable (like a list, tuple, or string) and return a map object (which is an iterator). This is particularly useful for transforming data without the need for an explicit loop.\nPurpose\n- Transformation: map() is often used to transform the elements of an iterable by applying a function to each element.\n- Readability: Using map() can make your code more concise and readable by reducing boilerplate code, especially for simple operations.\nSyntax\nmap(function, iterable, ...)\n- function: A function that takes one or more arguments and is applied to each item of the iterable.\n- iterable: One or more iterables (like lists, tuples, etc.) that you want to process.\nUsage\n1. Single Iterable:\nHere’s a simple example where we square each number in a list:\nnumbers = [1, 2, 3, 4, 5]\n   squared = map(lambda x: x**2, numbers)\n   print(list(squared))  # Output: [1, 4, 9, 16, 25]\n2. Multiple Iterables:\n   You can also use `map()` with multiple iterables. In this case, the function must accept as many arguments as there are iterables.\nlist1 = [1, 2, 3]\n   list2 = [4, 5, 6]\n   summed = map(lambda x, y: x + y, list1, list2)\n   print(list(summed))  # Output: [5, 7, 9]\n3. Using Built-in Functions:\nmap() can be used with built-in functions as well. For example, converting a list of strings to integers:\nstring_numbers = ['1', '2', '3']\n   integers = map(int, string_numbers)\n   print(list(integers))  # Output: [1, 2, 3]\nKey Points\n- The result of map() is an iterator, so you often convert it to a list or another data structure to view the results.\n- map() is generally more efficient than using a list comprehension for larger datasets because it produces results on-the-fly.\n- It’s often combined with lambda functions for quick, inline transformations.\nConclusion\n   The map() function is a powerful tool for applying transformations to iterables in a clean and efficient manner. It helps keep your code concise and improves readability, especially when dealing with simple transformations.",
      "metadata": {
        "trusted": true
      },
      "outputs": [],
      "execution_count": null
    },
    {
      "cell_type": "code",
      "source": "Answer 10. What is the difference between map(), reduce(), and filter() functions in python?\nThe map(), reduce(), and filter() functions in Python are all used for processing iterables, but they serve different purposes and operate in distinct ways. Here’s a breakdown of each function:\n1. map()\n- Purpose: Applies a specified function to each item in an iterable (like a list or tuple) and returns an iterator with the results.\n- Usage: Best for transforming data.\nExample:\nnumbers = [1, 2, 3, 4, 5]\nsquared = map(lambda x: x ** 2, numbers)\nprint(list(squared))  # Output: [1, 4, 9, 16, 25]\n2. filter()\n- Purpose: Filters items in an iterable based on a specified function that returns `True` or `False`. It returns an iterator of items for which the function returns `True`.\n- Usage: Best for selecting a subset of data.\nExample:\nnumbers = [1, 2, 3, 4, 5]\nevens = filter(lambda x: x % 2 == 0, numbers)\nprint(list(evens))  # Output: [2, 4]\n3. reduce()\n- Purpose: Applies a specified function cumulatively to the items of an iterable, reducing it to a single value. It’s part of the `functools` module, so you need to import it.\n- Usage: Best for aggregating or combining data.\nExample:\nfrom functools import reduce\nnumbers = [1, 2, 3, 4, 5]\nsum_result = reduce(lambda x, y: x + y, numbers)\nprint(sum_result)  # Output: 15\nKey Differences\n- Output:\n  - `map()`: Returns an iterable of the same length as the input, with transformed items.\n  - `filter()`: Returns an iterable of items that meet a specific condition; the output length can be less than or equal to the input.\n  - `reduce()`: Returns a single value, which is the result of cumulatively applying the function.\n- Functionality:\n  - `map()`: Transforms each element.\n  - `filter()`: Selects elements based on a condition.\n  - `reduce()`: Aggregates all elements into one value.\nConclusion\n   Each function serves a specific purpose and is useful in different scenarios. Understanding when to use each will help you write clearer and more efficient Python code.",
      "metadata": {
        "trusted": true,
        "tags": [],
        "editable": true,
        "slideshow": {
          "slide_type": ""
        }
      },
      "outputs": [],
      "execution_count": null
    }
  ]
}